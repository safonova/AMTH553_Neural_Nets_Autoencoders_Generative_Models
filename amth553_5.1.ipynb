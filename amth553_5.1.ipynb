{
 "cells": [
  {
   "cell_type": "code",
   "execution_count": 3,
   "metadata": {},
   "outputs": [],
   "source": [
    "%matplotlib inline\n",
    "import numpy as np\n",
    "from matplotlib import pyplot as plt\n",
    "from time import perf_counter\n",
    "from scipy import stats\n",
    "import cv2\n",
    "from ps3_functions import *"
   ]
  },
  {
   "cell_type": "code",
   "execution_count": 4,
   "metadata": {},
   "outputs": [],
   "source": [
    "def oneDtosignature(dist1D):\n",
    "    sig = np.empty((dist1D.size, 2), dtype=np.float32)\n",
    "    for ii in range(len(dist1D)):\n",
    "        sig[ii] = np.array([dist1D[ii], ii])\n",
    "    return sig\n",
    "\n",
    "def twoDtosignature(arr):\n",
    "    sig = np.empty((arr.size, 3), dtype=np.float32)\n",
    "    count = 0\n",
    "    for ii in range(arr.shape[0]):\n",
    "        for jj in range(arr.shape[1]):\n",
    "            sig[count] = np.array([arr[ii,jj], ii, jj])\n",
    "            count += 1\n",
    "    return sig"
   ]
  },
  {
   "cell_type": "code",
   "execution_count": 3,
   "metadata": {},
   "outputs": [],
   "source": [
    "np.random.seed(12051991)\n",
    "uniform_sample = np.random.rand(3000).reshape(3, 1000)*2-1\n",
    "bins = np.arange(-1, 1, 0.01)\n",
    "uniform_hist = np.histogram(uniform_sample, bins=bins)\n",
    "normal_sample = np.random.normal(size=3000).reshape(3, 1000)\n",
    "normal_hist = np.histogram(normal_sample, bins=bins)\n"
   ]
  },
  {
   "cell_type": "code",
   "execution_count": 4,
   "metadata": {},
   "outputs": [
    {
     "name": "stdout",
     "output_type": "stream",
     "text": [
      "KLD from normal to uniform 0.0995\n",
      "KLD from normal to uniform 0.1051\n"
     ]
    }
   ],
   "source": [
    "\n",
    "KLD = stats.entropy( normal_hist[0],uniform_hist[0])\n",
    "print(\"KLD from normal to uniform {0:0.4f}\".format(KLD))\n",
    "KLD = stats.entropy( uniform_hist[0],normal_hist[0])\n",
    "print(\"KLD from normal to uniform {0:0.4f}\".format(KLD))"
   ]
  },
  {
   "cell_type": "code",
   "execution_count": 6,
   "metadata": {},
   "outputs": [
    {
     "name": "stdout",
     "output_type": "stream",
     "text": [
      "0.04814443364739418\n",
      "-0.044449936999999995\n"
     ]
    }
   ],
   "source": [
    "t = perf_counter()\n",
    "normsig = oneDtosignature(normal_hist[0])\n",
    "unisig = oneDtosignature(uniform_hist[0])\n",
    "EMD, middle, flow = cv2.EMD(normsig, unisig, cv2.DIST_L2)\n",
    "print(EMD)\n",
    "b = perf_counter()\n",
    "print(t-b)"
   ]
  },
  {
   "cell_type": "code",
   "execution_count": 7,
   "metadata": {},
   "outputs": [
    {
     "name": "stdout",
     "output_type": "stream",
     "text": [
      "hello\n",
      "-0.00014127500000005178\n"
     ]
    }
   ],
   "source": [
    "t = perf_counter()\n",
    "print('hello')\n",
    "b = perf_counter()\n",
    "print(t-b)"
   ]
  },
  {
   "cell_type": "code",
   "execution_count": 8,
   "metadata": {},
   "outputs": [],
   "source": [
    "MMD = mmd(normal_hist[0], uniform_hist[0], kernel)"
   ]
  },
  {
   "cell_type": "code",
   "execution_count": 9,
   "metadata": {},
   "outputs": [
    {
     "data": {
      "text/plain": [
       "2.241583012250255"
      ]
     },
     "execution_count": 9,
     "metadata": {},
     "output_type": "execute_result"
    }
   ],
   "source": [
    "MMD"
   ]
  },
  {
   "cell_type": "code",
   "execution_count": 16,
   "metadata": {},
   "outputs": [
    {
     "name": "stdout",
     "output_type": "stream",
     "text": [
      "$\\sigma=$ 1\n",
      "KLD from normal to uniform 0.0995\n",
      "KLD from normal to uniform 0.1051\n",
      "KLD compute time 0.28 ms\n",
      "EMD 0.0481\n",
      "EMD compute time 47.76 ms\n",
      "MMD 2.2416\n",
      "MMD compute time 0.99 ms\n",
      "$\\sigma=$ 1.1\n",
      "KLD from normal to uniform 0.1000\n",
      "KLD from normal to uniform 0.0992\n",
      "KLD compute time 0.15 ms\n",
      "EMD 0.0328\n",
      "EMD compute time 40.82 ms\n",
      "MMD 2.1821\n",
      "MMD compute time 0.24 ms\n",
      "$\\sigma=$ 1.5\n",
      "KLD from normal to uniform 0.1064\n",
      "KLD from normal to uniform 0.1129\n",
      "KLD compute time 0.11 ms\n",
      "EMD 0.0070\n",
      "EMD compute time 28.60 ms\n",
      "MMD 2.0816\n",
      "MMD compute time 0.32 ms\n",
      "$\\sigma=$ 1.6\n",
      "KLD from normal to uniform 0.1170\n",
      "KLD from normal to uniform inf\n",
      "KLD compute time 0.13 ms\n",
      "EMD 0.0077\n",
      "EMD compute time 27.45 ms\n",
      "MMD 2.0703\n",
      "MMD compute time 0.28 ms\n",
      "$\\sigma=$ 2\n",
      "KLD from normal to uniform 0.1013\n",
      "KLD from normal to uniform inf\n",
      "KLD compute time 0.10 ms\n",
      "EMD 0.0000\n",
      "EMD compute time 25.67 ms\n",
      "MMD 2.0298\n",
      "MMD compute time 0.22 ms\n",
      "$\\sigma=$ 2.5\n",
      "KLD from normal to uniform 0.1319\n",
      "KLD from normal to uniform inf\n",
      "KLD compute time 0.10 ms\n",
      "EMD 0.0000\n",
      "EMD compute time 21.90 ms\n",
      "MMD 2.0184\n",
      "MMD compute time 0.35 ms\n",
      "$\\sigma=$ 5\n",
      "KLD from normal to uniform 0.2356\n",
      "KLD from normal to uniform inf\n",
      "KLD compute time 0.16 ms\n",
      "EMD 0.0000\n",
      "EMD compute time 18.23 ms\n",
      "MMD 2.0000\n",
      "MMD compute time 0.26 ms\n"
     ]
    }
   ],
   "source": [
    "for sigma in [1, 1.1, 1.5,1.6, 2,2.5,  5]:\n",
    "    print(\"$\\sigma=$ {0}\".format(sigma))\n",
    "    np.random.seed(12051991)\n",
    "    uniform_sample = np.random.rand(3000).reshape(3, 1000)*2-1\n",
    "    normal_sample = np.random.normal(0, sigma, size=3000).reshape(3, 1000)\n",
    "    \n",
    "    bins = np.arange(-1, 1, 0.01)\n",
    "    uniform_hist = np.histogram(uniform_sample, bins=bins)\n",
    "    normal_hist = np.histogram(normal_sample, bins=bins)\n",
    "    \n",
    "    t1 = perf_counter()\n",
    "    KLD = stats.entropy( normal_hist[0],uniform_hist[0])\n",
    "    print(\"KLD from normal to uniform {0:0.4f}\".format(KLD))\n",
    "    KLD = stats.entropy( uniform_hist[0],normal_hist[0])\n",
    "    print(\"KLD from normal to uniform {0:0.4f}\".format(KLD))\n",
    "    t2 = perf_counter()\n",
    "    print(\"KLD compute time {0:0.2f} ms\".format(1e3*(t2-t1)))\n",
    "    \n",
    "    t1 = perf_counter()\n",
    "    normsig = oneDtosignature(normal_hist[0])\n",
    "    unisig = oneDtosignature(uniform_hist[0])\n",
    "    EMD, middle, flow = cv2.EMD(normsig, unisig, cv2.DIST_L2)\n",
    "    print(\"EMD {0:0.4f}\".format(EMD))\n",
    "    t2 = perf_counter()\n",
    "    print(\"EMD compute time {0:0.2f} ms\".format(1e3*(t2-t1)))\n",
    "    \n",
    "    t1 = perf_counter()\n",
    "    MMD = mmd(normal_hist[0], uniform_hist[0], kernel)\n",
    "    print(\"MMD {0:0.4f}\".format(MMD))\n",
    "    t2 = perf_counter()\n",
    "    print(\"MMD compute time {0:0.2f} ms\".format(1e3*(t2-t1)))"
   ]
  },
  {
   "cell_type": "code",
   "execution_count": 21,
   "metadata": {},
   "outputs": [
    {
     "name": "stdout",
     "output_type": "stream",
     "text": [
      "1.0 & 0.100 & 0.105 &0.048 &2.242 & 0.149 &52.847 &0.362 \\\\\n",
      "1.1 & 0.100 & 0.099 &0.033 &2.182 & 0.093 &41.968 &0.221 \\\\\n",
      "1.5 & 0.106 & 0.113 &0.007 &2.082 & 0.070 &31.117 &0.333 \\\\\n",
      "1.6 & 0.117 & inf &0.008 &2.070 & 0.068 &30.153 &0.205 \\\\\n",
      "2.0 & 0.101 & inf &0.000 &2.030 & 0.104 &25.821 &0.203 \\\\\n",
      "2.5 & 0.132 & inf &0.000 &2.018 & 0.067 &25.573 &0.207 \\\\\n",
      "5.0 & 0.236 & inf &0.000 &2.000 & 0.069 &17.676 &0.220 \\\\\n"
     ]
    }
   ],
   "source": [
    "for sigma in [1, 1.1, 1.5,1.6, 2,2.5,  5]:\n",
    "    #print(\"$\\sigma=$ {0}\".format(sigma))\n",
    "    np.random.seed(12051991)\n",
    "    uniform_sample = np.random.rand(3000).reshape(3, 1000)*2-1\n",
    "    normal_sample = np.random.normal(0, sigma, size=3000).reshape(3, 1000)\n",
    "    \n",
    "    bins = np.arange(-1, 1, 0.01)\n",
    "    uniform_hist = np.histogram(uniform_sample, bins=bins)\n",
    "    normal_hist = np.histogram(normal_sample, bins=bins)\n",
    "    \n",
    "    t1 = perf_counter()\n",
    "    KLD1 = stats.entropy( normal_hist[0],uniform_hist[0])\n",
    "    KLD2 = stats.entropy( uniform_hist[0],normal_hist[0])\n",
    "    t2 = perf_counter()\n",
    "    kldtime = 1e3*(t2-t1)\n",
    "    \n",
    "    t1 = perf_counter()\n",
    "    normsig = oneDtosignature(normal_hist[0])\n",
    "    unisig = oneDtosignature(uniform_hist[0])\n",
    "    EMD, middle, flow = cv2.EMD(normsig, unisig, cv2.DIST_L2)\n",
    "    t2 = perf_counter()\n",
    "    emdtime = 1e3*(t2-t1)\n",
    "    \n",
    "    t1 = perf_counter()\n",
    "    MMD = mmd(normal_hist[0], uniform_hist[0], kernel)\n",
    "    t2 = perf_counter()\n",
    "    mmdtime = 1e3*(t2-t1)\n",
    "    \n",
    "    print(\"{0:0.1f} & {1:0.3f} & {2:0.3f} &{3:0.3f} &{4:0.3f} & {5:0.3f} &{6:0.3f} &{7:0.3f} \\\\\\\\\".format(sigma,\n",
    "                                                                                                        KLD1, KLD2, EMD, MMD,\n",
    "                                                                                                       kldtime, emdtime, mmdtime))\n",
    "    \n",
    "    \n",
    "    "
   ]
  },
  {
   "cell_type": "markdown",
   "metadata": {},
   "source": [
    "### 5.2"
   ]
  },
  {
   "cell_type": "code",
   "execution_count": 6,
   "metadata": {},
   "outputs": [],
   "source": [
    "import torch\n",
    "import torchvision.datasets as datasets\n",
    "from torch.utils.data import DataLoader\n",
    "import scprep\n",
    "\n",
    "batch_size = 1000\n",
    "train_data = datasets.MNIST(\n",
    "    root='../data',\n",
    "    train=True,\n",
    "    download=True,\n",
    "    transform=transforms.ToTensor())\n",
    "\n",
    "train_loader = DataLoader(train_data, batch_size=batch_size, shuffle=True)\n"
   ]
  },
  {
   "cell_type": "code",
   "execution_count": 7,
   "metadata": {},
   "outputs": [],
   "source": [
    "for ii, (data, targets) in enumerate(train_loader):\n",
    "    if ii>1:\n",
    "        break\n",
    "    elif ii==0:\n",
    "        first_dataset = data.detach().numpy()\n",
    "    elif ii==1:\n",
    "        second_dataset = data.detach().numpy()"
   ]
  },
  {
   "cell_type": "code",
   "execution_count": 8,
   "metadata": {},
   "outputs": [],
   "source": [
    "first_dataset = first_dataset.reshape(1000, 784)\n",
    "second_dataset = second_dataset.reshape(1000, 784)"
   ]
  },
  {
   "cell_type": "code",
   "execution_count": 9,
   "metadata": {},
   "outputs": [],
   "source": [
    "first_pca = scprep.reduce.pca(first_dataset, 8)\n",
    "second_pca = scprep.reduce.pca(second_dataset, 8)"
   ]
  },
  {
   "cell_type": "code",
   "execution_count": 32,
   "metadata": {},
   "outputs": [
    {
     "data": {
      "text/plain": [
       "(1000, 8)"
      ]
     },
     "execution_count": 32,
     "metadata": {},
     "output_type": "execute_result"
    }
   ],
   "source": [
    "second_pca.shape"
   ]
  },
  {
   "cell_type": "code",
   "execution_count": 40,
   "metadata": {},
   "outputs": [
    {
     "data": {
      "text/plain": [
       "<matplotlib.collections.PathCollection at 0x1a3fa51610>"
      ]
     },
     "execution_count": 40,
     "metadata": {},
     "output_type": "execute_result"
    },
    {
     "data": {
      "image/png": "[encoded data removed]",
      "text/plain": [
       "<Figure size 432x288 with 1 Axes>"
      ]
     },
     "metadata": {
      "needs_background": "light"
     },
     "output_type": "display_data"
    }
   ],
   "source": [
    "plt.scatter(first_pca[:,0], first_pca[:,1], alpha=0.5, s=1)\n",
    "plt.scatter(second_pca[:,0], second_pca[:,1], alpha=0.5, s=1)"
   ]
  },
  {
   "cell_type": "code",
   "execution_count": 10,
   "metadata": {},
   "outputs": [],
   "source": [
    "hist1 = np.histogram2d(first_pca[:,0], first_pca[:,1], bins=[np.linspace(-6, 6, num=20),np.linspace(-6, 10, num=20)])\n",
    "hist2 = np.histogram2d(second_pca[:, 0], first_pca[:, 1],  bins=[np.linspace(-6, 6, num=20),np.linspace(-6, 10, num=20)])"
   ]
  },
  {
   "cell_type": "code",
   "execution_count": 102,
   "metadata": {},
   "outputs": [
    {
     "data": {
      "text/plain": [
       "<matplotlib.contour.QuadContourSet at 0x1a37935450>"
      ]
     },
     "execution_count": 102,
     "metadata": {},
     "output_type": "execute_result"
    },
    {
     "data": {
      "image/png": "[encoded data removed]",
      "text/plain": [
       "<Figure size 360x360 with 1 Axes>"
      ]
     },
     "metadata": {
      "needs_background": "light"
     },
     "output_type": "display_data"
    }
   ],
   "source": [
    "x_centers = [np.mean([hist1[1][ii], hist1[1][ii+1]]) for ii in range(len(hist1[1])-1)]\n",
    "y_centers = [np.mean([hist1[2][ii], hist1[2][ii+1]]) for ii in range(len(hist1[2])-1)]\n",
    "XX, YY = np.meshgrid(x_centers, y_centers)\n",
    "\n",
    "fig, axes = plt.subplots(figsize=(5,5))\n",
    "axes.contourf(XX, YY,hist1[0])"
   ]
  },
  {
   "cell_type": "code",
   "execution_count": 5,
   "metadata": {},
   "outputs": [],
   "source": [
    "def get_me_my_histograms(dim, first_pca, second_pca):\n",
    "    binmin = min(min(first_pca[:,dim]), min(second_pca[:,dim]))\n",
    "    binmax = max(max(first_pca[:,dim]), max(second_pca[:,dim]))\n",
    "    bins = np.linspace(binmin, binmax, num=10)\n",
    "    hist1 = np.histogram(first_pca[:, dim], bins=bins)\n",
    "    x_centers = [np.mean([hist1[1][ii], hist1[1][ii+1]]) for ii in range(len(hist1[1])-1)]\n",
    "    return hist1[0]"
   ]
  },
  {
   "cell_type": "code",
   "execution_count": 11,
   "metadata": {},
   "outputs": [],
   "source": [
    "my_histograms1 = np.array([get_me_my_histograms(dim, first_pca, second_pca) for dim in range(first_pca.shape[1])])\n",
    "my_histograms2 = np.array([get_me_my_histograms(dim, second_pca, first_pca) for dim in range(first_pca.shape[1])])\n"
   ]
  },
  {
   "cell_type": "code",
   "execution_count": 12,
   "metadata": {},
   "outputs": [
    {
     "name": "stdout",
     "output_type": "stream",
     "text": [
      "inf\n",
      "0.020333947829428246\n"
     ]
    }
   ],
   "source": [
    "t1 = perf_counter()\n",
    "KLD = stats.entropy( my_histograms1.flatten(), my_histograms2.flatten())#, axis=1)\n",
    "KLD2 = stats.entropy( my_histograms2.flatten(),my_histograms1.flatten())#, axis=1)\n",
    "t2 = perf_counter()\n",
    "kldtime = 1e3*(t2-t1)\n",
    "print(KLD)\n",
    "print(KLD2)"
   ]
  },
  {
   "cell_type": "code",
   "execution_count": 13,
   "metadata": {},
   "outputs": [],
   "source": [
    "t1 = perf_counter()\n",
    "signature1 = twoDtosignature(my_histograms1)\n",
    "signature2 = twoDtosignature(my_histograms2)\n",
    "EMD, middle, flow = cv2.EMD(signature1, signature2, cv2.DIST_L2)\n",
    "t2 = perf_counter()\n",
    "emdtime = 1e3*(t2-t1)\n",
    "\n",
    "t1 = perf_counter()\n",
    "MMD = mmd(my_histograms1.flatten(), my_histograms2.flatten(), kernel)\n",
    "\n",
    "t2 = perf_counter()\n",
    "mmdtime = 1e3*(t2-t1)\n",
    "\n",
    "\n"
   ]
  },
  {
   "cell_type": "code",
   "execution_count": 14,
   "metadata": {},
   "outputs": [
    {
     "data": {
      "text/plain": [
       "0.08666881918907166"
      ]
     },
     "execution_count": 14,
     "metadata": {},
     "output_type": "execute_result"
    }
   ],
   "source": [
    "EMD"
   ]
  },
  {
   "cell_type": "code",
   "execution_count": 15,
   "metadata": {},
   "outputs": [
    {
     "data": {
      "text/plain": [
       "2.912271575819829"
      ]
     },
     "execution_count": 15,
     "metadata": {},
     "output_type": "execute_result"
    }
   ],
   "source": [
    "MMD"
   ]
  },
  {
   "cell_type": "code",
   "execution_count": 16,
   "metadata": {},
   "outputs": [
    {
     "data": {
      "text/plain": [
       "0.3233540001019719"
      ]
     },
     "execution_count": 16,
     "metadata": {},
     "output_type": "execute_result"
    }
   ],
   "source": [
    "kldtime"
   ]
  },
  {
   "cell_type": "code",
   "execution_count": 17,
   "metadata": {},
   "outputs": [
    {
     "data": {
      "text/plain": [
       "2.521827999771631"
      ]
     },
     "execution_count": 17,
     "metadata": {},
     "output_type": "execute_result"
    }
   ],
   "source": [
    "emdtime"
   ]
  },
  {
   "cell_type": "code",
   "execution_count": 18,
   "metadata": {},
   "outputs": [
    {
     "data": {
      "text/plain": [
       "0.3672419998110854"
      ]
     },
     "execution_count": 18,
     "metadata": {},
     "output_type": "execute_result"
    }
   ],
   "source": [
    "mmdtime"
   ]
  },
  {
   "cell_type": "code",
   "execution_count": null,
   "metadata": {},
   "outputs": [],
   "source": []
  }
 ],
 "metadata": {
  "kernelspec": {
   "display_name": "Python 3",
   "language": "python",
   "name": "python3"
  },
  "language_info": {
   "codemirror_mode": {
    "name": "ipython",
    "version": 3
   },
   "file_extension": ".py",
   "mimetype": "text/x-python",
   "name": "python",
   "nbconvert_exporter": "python",
   "pygments_lexer": "ipython3",
   "version": "3.7.7"
  }
 },
 "nbformat": 4,
 "nbformat_minor": 2
}
